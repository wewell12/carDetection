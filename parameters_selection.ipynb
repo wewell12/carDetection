{
 "cells": [
  {
   "cell_type": "markdown",
   "id": "0b1af43a-8460-49c9-943c-5ce01a36bb3b",
   "metadata": {},
   "source": [
    "# Parameters selection"
   ]
  },
  {
   "cell_type": "code",
   "execution_count": 1,
   "id": "c6bc5f09-191e-442e-a4c4-d1ab9661cf1b",
   "metadata": {},
   "outputs": [],
   "source": [
    "import pandas as pd\n",
    "import numpy as np\n",
    "import os\n",
    "import random\n",
    "import pickle\n",
    "import matplotlib.pyplot as plt\n",
    "\n",
    "from libs.big_images import *"
   ]
  },
  {
   "cell_type": "markdown",
   "id": "eae6053d-e3b4-469b-8eba-15838258e6b2",
   "metadata": {},
   "source": [
    "## Working with raw data"
   ]
  },
  {
   "cell_type": "code",
   "execution_count": 8,
   "id": "8e26bacf-6af0-49e5-ad86-9bf65a268ac5",
   "metadata": {},
   "outputs": [],
   "source": [
    "raw_path=\"results/raw\"\n",
    "\n",
    "#to_select=random.sample(list(np.arange(300)),100)\n",
    "#with open('results/distrib.pkl', 'wb') as f:\n",
    "#    pickle.dump(to_select, f)\n",
    "with open('results/distrib.pkl', 'rb') as f:\n",
    "    to_select = pickle.load(f)\n",
    "\n",
    "paths=[]\n",
    "predictions=[]\n",
    "\n",
    "for model in os.listdir(raw_path):\n",
    "    paths.append(model)\n",
    "    l=list(pd.read_pickle(os.path.join(raw_path,model))[\"mask\"])\n",
    "    \n",
    "    predictions.append([l[i] for i in to_select])\n",
    "    \n",
    "model_df=pd.DataFrame({\"name\":paths,\"predictions\":predictions})\n",
    "    "
   ]
  },
  {
   "cell_type": "code",
   "execution_count": 9,
   "id": "7dadd55c-09c5-4f27-a59f-ba467ecec94d",
   "metadata": {},
   "outputs": [
    {
     "name": "stdout",
     "output_type": "stream",
     "text": [
      "ok\n",
      "ok\n",
      "ok\n",
      "ok\n"
     ]
    }
   ],
   "source": [
    "vals_quant=[0.6,0.7,0.8,0.9]\n",
    "for v in vals_quant:\n",
    "    model_df[\"quant\"+str(v)]=model_df[\"predictions\"].apply(lambda x :[def_image_quant(y[0],v) for y in x])\n",
    "    print(\"ok\")"
   ]
  },
  {
   "cell_type": "code",
   "execution_count": 11,
   "id": "178448e5-3571-479e-8750-79c6a3a904fb",
   "metadata": {},
   "outputs": [],
   "source": [
    "with open('results/distrib.pkl', 'wb') as f:\n",
    "    pickle.dump(to_select, f)"
   ]
  },
  {
   "cell_type": "code",
   "execution_count": 12,
   "id": "9f9a4de4-2122-4a5e-bfa2-fde0c912332e",
   "metadata": {},
   "outputs": [],
   "source": [
    "#model_df.to_pickle(\"results/quant100.pkl\")"
   ]
  },
  {
   "cell_type": "code",
   "execution_count": 11,
   "id": "6001472e-5fc2-4b86-8b53-8b20295eed08",
   "metadata": {},
   "outputs": [
    {
     "name": "stdout",
     "output_type": "stream",
     "text": [
      "ok\n",
      "ok\n",
      "ok\n",
      "ok\n"
     ]
    }
   ],
   "source": [
    "vals_val=[0.3,0.4,0.5,0.6]\n",
    "for v in vals_val:\n",
    "    model_df[\"val\"+str(v)]=model_df[\"predictions\"].apply(lambda x : [def_image_value(y[0],v) for y in x ])\n",
    "    print(\"ok\")"
   ]
  },
  {
   "cell_type": "code",
   "execution_count": 14,
   "id": "702fe53a-c28d-4c23-86f2-2ea549f65f12",
   "metadata": {},
   "outputs": [],
   "source": [
    "#model_df.to_pickle(\"results/val100.pkl\")"
   ]
  },
  {
   "cell_type": "markdown",
   "id": "6f6dc5fe-a177-4042-9e59-b32051b60fc6",
   "metadata": {},
   "source": [
    "## Working with processed data"
   ]
  },
  {
   "cell_type": "code",
   "execution_count": 2,
   "id": "4a403ad0-8ab2-405d-9ca9-2f6515f92b49",
   "metadata": {},
   "outputs": [],
   "source": [
    "with open('results/distrib.pkl', 'rb') as f:\n",
    "    to_select = pickle.load(f)\n",
    "\n",
    "true=list(pd.read_pickle(\"results/true.pkl\")[\"mask\"])\n",
    "true_select=[true[i] for i in to_select]"
   ]
  },
  {
   "cell_type": "code",
   "execution_count": 3,
   "id": "b7ac5b09-3311-43e2-b182-18e765c5fbd6",
   "metadata": {},
   "outputs": [],
   "source": [
    "#quants=pd.read_pickle(\"results/quant100.pkl\")\n",
    "vals=pd.read_pickle(\"results/val100.pkl\")"
   ]
  },
  {
   "cell_type": "code",
   "execution_count": 4,
   "id": "60301007-7f20-4b49-b325-0a87a0045290",
   "metadata": {},
   "outputs": [],
   "source": [
    "def compare(true,pred):\n",
    "    score=0.\n",
    "    false_positive=0.\n",
    "    false_negative=0.\n",
    "    for i in range(len(true)):\n",
    "        mult=true[i]*pred[i]\n",
    "        score+=np.sum(mult)/max(0.00001,np.sum(true[i]))\n",
    "        false_positive+=(np.sum(pred[i]-mult))/(len(true[i])*(len(true[i][0]))-np.sum(mult))\n",
    "        false_negative+=(np.sum(true[i]-mult))/(len(true[i])*(len(true[i][0]))-np.sum(mult))\n",
    "    \n",
    "\n",
    "    return score/len(true),false_positive/len(true),false_negative/len(true)\n",
    "        \n",
    "    "
   ]
  },
  {
   "cell_type": "code",
   "execution_count": 6,
   "id": "5e9d388d-7713-4865-8d71-e391983de542",
   "metadata": {},
   "outputs": [
    {
     "data": {
      "text/plain": [
       "['val0.3', 'val0.4', 'val0.5', 'val0.6']"
      ]
     },
     "execution_count": 6,
     "metadata": {},
     "output_type": "execute_result"
    }
   ],
   "source": [
    "cols=list(vals.columns)[2:]\n",
    "cols"
   ]
  },
  {
   "cell_type": "code",
   "execution_count": 7,
   "id": "5c3fb280-a8a9-4698-ae17-7c6e5ee33a4c",
   "metadata": {},
   "outputs": [],
   "source": [
    "#res_df=pd.DataFrame(columns=[\"type\",\"w_size\",\"step\",\"parameter\",\"score\",\"false_positive\",\"false_negative\"])\n",
    "res_df=pd.read_pickle(\"results/score_comp.pkl\")\n",
    "for i in range(len(vals)):\n",
    "    for c in cols:\n",
    "        name=vals[\"name\"].iloc[i]\n",
    "        res_df.loc[name+\"/\"+c]=[\"val\",int(name.split(\"_\")[1]),int(name.split(\"_\")[2]),float(c[3:])]+list(compare(true_select,vals[c].iloc[i]))"
   ]
  },
  {
   "cell_type": "code",
   "execution_count": 9,
   "id": "e5ec756b-2109-4ece-a385-edefaccf2575",
   "metadata": {},
   "outputs": [],
   "source": [
    "#res_df.to_pickle(\"results/score_comp.pkl\")"
   ]
  },
  {
   "cell_type": "code",
   "execution_count": 19,
   "id": "2e0b9bd3-6021-4443-b391-2cf70fdd69db",
   "metadata": {},
   "outputs": [
    {
     "data": {
      "text/html": [
       "<div>\n",
       "<style scoped>\n",
       "    .dataframe tbody tr th:only-of-type {\n",
       "        vertical-align: middle;\n",
       "    }\n",
       "\n",
       "    .dataframe tbody tr th {\n",
       "        vertical-align: top;\n",
       "    }\n",
       "\n",
       "    .dataframe thead th {\n",
       "        text-align: right;\n",
       "    }\n",
       "</style>\n",
       "<table border=\"1\" class=\"dataframe\">\n",
       "  <thead>\n",
       "    <tr style=\"text-align: right;\">\n",
       "      <th></th>\n",
       "      <th>type</th>\n",
       "      <th>w_size</th>\n",
       "      <th>step</th>\n",
       "      <th>parameter</th>\n",
       "      <th>score</th>\n",
       "      <th>false_positive</th>\n",
       "      <th>false_negative</th>\n",
       "    </tr>\n",
       "  </thead>\n",
       "  <tbody>\n",
       "    <tr>\n",
       "      <th>pred_64_8_raw.pkl/quant0.6</th>\n",
       "      <td>quant</td>\n",
       "      <td>64</td>\n",
       "      <td>8</td>\n",
       "      <td>0.6</td>\n",
       "      <td>0.639458</td>\n",
       "      <td>0.280752</td>\n",
       "      <td>0.111237</td>\n",
       "    </tr>\n",
       "    <tr>\n",
       "      <th>pred_128_32_raw.pkl/quant0.6</th>\n",
       "      <td>quant</td>\n",
       "      <td>128</td>\n",
       "      <td>32</td>\n",
       "      <td>0.6</td>\n",
       "      <td>0.585376</td>\n",
       "      <td>0.263764</td>\n",
       "      <td>0.118915</td>\n",
       "    </tr>\n",
       "    <tr>\n",
       "      <th>pred_64_8_raw.pkl/quant0.7</th>\n",
       "      <td>quant</td>\n",
       "      <td>64</td>\n",
       "      <td>8</td>\n",
       "      <td>0.7</td>\n",
       "      <td>0.539845</td>\n",
       "      <td>0.207262</td>\n",
       "      <td>0.132288</td>\n",
       "    </tr>\n",
       "    <tr>\n",
       "      <th>pred_128_32_raw.pkl/val0.3</th>\n",
       "      <td>val</td>\n",
       "      <td>128</td>\n",
       "      <td>32</td>\n",
       "      <td>0.3</td>\n",
       "      <td>0.502595</td>\n",
       "      <td>0.220123</td>\n",
       "      <td>0.125205</td>\n",
       "    </tr>\n",
       "    <tr>\n",
       "      <th>pred_64_32_raw.pkl/quant0.6</th>\n",
       "      <td>quant</td>\n",
       "      <td>64</td>\n",
       "      <td>32</td>\n",
       "      <td>0.6</td>\n",
       "      <td>0.475559</td>\n",
       "      <td>0.188714</td>\n",
       "      <td>0.137261</td>\n",
       "    </tr>\n",
       "    <tr>\n",
       "      <th>pred_128_32_raw.pkl/quant0.7</th>\n",
       "      <td>quant</td>\n",
       "      <td>128</td>\n",
       "      <td>32</td>\n",
       "      <td>0.7</td>\n",
       "      <td>0.473977</td>\n",
       "      <td>0.180848</td>\n",
       "      <td>0.139732</td>\n",
       "    </tr>\n",
       "    <tr>\n",
       "      <th>pred_128_64_raw.pkl/quant0.6</th>\n",
       "      <td>quant</td>\n",
       "      <td>128</td>\n",
       "      <td>64</td>\n",
       "      <td>0.6</td>\n",
       "      <td>0.431864</td>\n",
       "      <td>0.205449</td>\n",
       "      <td>0.141754</td>\n",
       "    </tr>\n",
       "    <tr>\n",
       "      <th>pred_64_8_raw.pkl/val0.3</th>\n",
       "      <td>val</td>\n",
       "      <td>64</td>\n",
       "      <td>8</td>\n",
       "      <td>0.3</td>\n",
       "      <td>0.422677</td>\n",
       "      <td>0.146041</td>\n",
       "      <td>0.142849</td>\n",
       "    </tr>\n",
       "    <tr>\n",
       "      <th>pred_128_64_raw.pkl/val0.3</th>\n",
       "      <td>val</td>\n",
       "      <td>128</td>\n",
       "      <td>64</td>\n",
       "      <td>0.3</td>\n",
       "      <td>0.414333</td>\n",
       "      <td>0.194913</td>\n",
       "      <td>0.141228</td>\n",
       "    </tr>\n",
       "    <tr>\n",
       "      <th>pred_64_8_raw.pkl/quant0.8</th>\n",
       "      <td>quant</td>\n",
       "      <td>64</td>\n",
       "      <td>8</td>\n",
       "      <td>0.8</td>\n",
       "      <td>0.411628</td>\n",
       "      <td>0.131322</td>\n",
       "      <td>0.155278</td>\n",
       "    </tr>\n",
       "    <tr>\n",
       "      <th>pred_64_32_raw.pkl/quant0.7</th>\n",
       "      <td>quant</td>\n",
       "      <td>64</td>\n",
       "      <td>32</td>\n",
       "      <td>0.7</td>\n",
       "      <td>0.410514</td>\n",
       "      <td>0.150933</td>\n",
       "      <td>0.150937</td>\n",
       "    </tr>\n",
       "    <tr>\n",
       "      <th>pred_256_64_raw.pkl/val0.3</th>\n",
       "      <td>val</td>\n",
       "      <td>256</td>\n",
       "      <td>64</td>\n",
       "      <td>0.3</td>\n",
       "      <td>0.409515</td>\n",
       "      <td>0.305477</td>\n",
       "      <td>0.137578</td>\n",
       "    </tr>\n",
       "    <tr>\n",
       "      <th>pred_128_32_raw.pkl/val0.4</th>\n",
       "      <td>val</td>\n",
       "      <td>128</td>\n",
       "      <td>32</td>\n",
       "      <td>0.4</td>\n",
       "      <td>0.392501</td>\n",
       "      <td>0.146537</td>\n",
       "      <td>0.146941</td>\n",
       "    </tr>\n",
       "    <tr>\n",
       "      <th>pred_64_32_raw.pkl/val0.3</th>\n",
       "      <td>val</td>\n",
       "      <td>64</td>\n",
       "      <td>32</td>\n",
       "      <td>0.3</td>\n",
       "      <td>0.365432</td>\n",
       "      <td>0.135929</td>\n",
       "      <td>0.152597</td>\n",
       "    </tr>\n",
       "    <tr>\n",
       "      <th>pred_128_64_raw.pkl/quant0.7</th>\n",
       "      <td>quant</td>\n",
       "      <td>128</td>\n",
       "      <td>64</td>\n",
       "      <td>0.7</td>\n",
       "      <td>0.353367</td>\n",
       "      <td>0.152843</td>\n",
       "      <td>0.158636</td>\n",
       "    </tr>\n",
       "    <tr>\n",
       "      <th>pred_128_32_raw.pkl/quant0.8</th>\n",
       "      <td>quant</td>\n",
       "      <td>128</td>\n",
       "      <td>32</td>\n",
       "      <td>0.8</td>\n",
       "      <td>0.338461</td>\n",
       "      <td>0.112177</td>\n",
       "      <td>0.161890</td>\n",
       "    </tr>\n",
       "    <tr>\n",
       "      <th>pred_64_8_raw.pkl/val0.4</th>\n",
       "      <td>val</td>\n",
       "      <td>64</td>\n",
       "      <td>8</td>\n",
       "      <td>0.4</td>\n",
       "      <td>0.320481</td>\n",
       "      <td>0.098718</td>\n",
       "      <td>0.160846</td>\n",
       "    </tr>\n",
       "    <tr>\n",
       "      <th>pred_256_64_raw.pkl/quant0.6</th>\n",
       "      <td>quant</td>\n",
       "      <td>256</td>\n",
       "      <td>64</td>\n",
       "      <td>0.6</td>\n",
       "      <td>0.315214</td>\n",
       "      <td>0.228061</td>\n",
       "      <td>0.157327</td>\n",
       "    </tr>\n",
       "    <tr>\n",
       "      <th>pred_128_32_raw.pkl/val0.5</th>\n",
       "      <td>val</td>\n",
       "      <td>128</td>\n",
       "      <td>32</td>\n",
       "      <td>0.5</td>\n",
       "      <td>0.297927</td>\n",
       "      <td>0.096577</td>\n",
       "      <td>0.164538</td>\n",
       "    </tr>\n",
       "    <tr>\n",
       "      <th>pred_256_64_raw.pkl/val0.4</th>\n",
       "      <td>val</td>\n",
       "      <td>256</td>\n",
       "      <td>64</td>\n",
       "      <td>0.4</td>\n",
       "      <td>0.291982</td>\n",
       "      <td>0.206290</td>\n",
       "      <td>0.162137</td>\n",
       "    </tr>\n",
       "  </tbody>\n",
       "</table>\n",
       "</div>"
      ],
      "text/plain": [
       "                               type  w_size  step  parameter     score  \\\n",
       "pred_64_8_raw.pkl/quant0.6    quant      64     8        0.6  0.639458   \n",
       "pred_128_32_raw.pkl/quant0.6  quant     128    32        0.6  0.585376   \n",
       "pred_64_8_raw.pkl/quant0.7    quant      64     8        0.7  0.539845   \n",
       "pred_128_32_raw.pkl/val0.3      val     128    32        0.3  0.502595   \n",
       "pred_64_32_raw.pkl/quant0.6   quant      64    32        0.6  0.475559   \n",
       "pred_128_32_raw.pkl/quant0.7  quant     128    32        0.7  0.473977   \n",
       "pred_128_64_raw.pkl/quant0.6  quant     128    64        0.6  0.431864   \n",
       "pred_64_8_raw.pkl/val0.3        val      64     8        0.3  0.422677   \n",
       "pred_128_64_raw.pkl/val0.3      val     128    64        0.3  0.414333   \n",
       "pred_64_8_raw.pkl/quant0.8    quant      64     8        0.8  0.411628   \n",
       "pred_64_32_raw.pkl/quant0.7   quant      64    32        0.7  0.410514   \n",
       "pred_256_64_raw.pkl/val0.3      val     256    64        0.3  0.409515   \n",
       "pred_128_32_raw.pkl/val0.4      val     128    32        0.4  0.392501   \n",
       "pred_64_32_raw.pkl/val0.3       val      64    32        0.3  0.365432   \n",
       "pred_128_64_raw.pkl/quant0.7  quant     128    64        0.7  0.353367   \n",
       "pred_128_32_raw.pkl/quant0.8  quant     128    32        0.8  0.338461   \n",
       "pred_64_8_raw.pkl/val0.4        val      64     8        0.4  0.320481   \n",
       "pred_256_64_raw.pkl/quant0.6  quant     256    64        0.6  0.315214   \n",
       "pred_128_32_raw.pkl/val0.5      val     128    32        0.5  0.297927   \n",
       "pred_256_64_raw.pkl/val0.4      val     256    64        0.4  0.291982   \n",
       "\n",
       "                              false_positive  false_negative  \n",
       "pred_64_8_raw.pkl/quant0.6          0.280752        0.111237  \n",
       "pred_128_32_raw.pkl/quant0.6        0.263764        0.118915  \n",
       "pred_64_8_raw.pkl/quant0.7          0.207262        0.132288  \n",
       "pred_128_32_raw.pkl/val0.3          0.220123        0.125205  \n",
       "pred_64_32_raw.pkl/quant0.6         0.188714        0.137261  \n",
       "pred_128_32_raw.pkl/quant0.7        0.180848        0.139732  \n",
       "pred_128_64_raw.pkl/quant0.6        0.205449        0.141754  \n",
       "pred_64_8_raw.pkl/val0.3            0.146041        0.142849  \n",
       "pred_128_64_raw.pkl/val0.3          0.194913        0.141228  \n",
       "pred_64_8_raw.pkl/quant0.8          0.131322        0.155278  \n",
       "pred_64_32_raw.pkl/quant0.7         0.150933        0.150937  \n",
       "pred_256_64_raw.pkl/val0.3          0.305477        0.137578  \n",
       "pred_128_32_raw.pkl/val0.4          0.146537        0.146941  \n",
       "pred_64_32_raw.pkl/val0.3           0.135929        0.152597  \n",
       "pred_128_64_raw.pkl/quant0.7        0.152843        0.158636  \n",
       "pred_128_32_raw.pkl/quant0.8        0.112177        0.161890  \n",
       "pred_64_8_raw.pkl/val0.4            0.098718        0.160846  \n",
       "pred_256_64_raw.pkl/quant0.6        0.228061        0.157327  \n",
       "pred_128_32_raw.pkl/val0.5          0.096577        0.164538  \n",
       "pred_256_64_raw.pkl/val0.4          0.206290        0.162137  "
      ]
     },
     "execution_count": 19,
     "metadata": {},
     "output_type": "execute_result"
    }
   ],
   "source": [
    "res_df.sort_values(\"score\",ascending=False).head(20)"
   ]
  },
  {
   "cell_type": "markdown",
   "id": "608bfe6c-8d9d-4e4d-9163-fdf2e8aa0660",
   "metadata": {},
   "source": [
    "### Loading and analysing the data"
   ]
  },
  {
   "cell_type": "code",
   "execution_count": 2,
   "id": "2bcb5192-4c39-474b-8c00-0531f0046619",
   "metadata": {},
   "outputs": [],
   "source": [
    "res=pd.read_pickle(\"results/score_comp.pkl\")"
   ]
  },
  {
   "cell_type": "code",
   "execution_count": 3,
   "id": "1c8f8ac6-09d3-4ed9-8f11-7cdba20b0043",
   "metadata": {},
   "outputs": [
    {
     "data": {
      "text/html": [
       "<div>\n",
       "<style scoped>\n",
       "    .dataframe tbody tr th:only-of-type {\n",
       "        vertical-align: middle;\n",
       "    }\n",
       "\n",
       "    .dataframe tbody tr th {\n",
       "        vertical-align: top;\n",
       "    }\n",
       "\n",
       "    .dataframe thead th {\n",
       "        text-align: right;\n",
       "    }\n",
       "</style>\n",
       "<table border=\"1\" class=\"dataframe\">\n",
       "  <thead>\n",
       "    <tr style=\"text-align: right;\">\n",
       "      <th></th>\n",
       "      <th>type</th>\n",
       "      <th>w_size</th>\n",
       "      <th>step</th>\n",
       "      <th>parameter</th>\n",
       "      <th>score</th>\n",
       "      <th>false_positive</th>\n",
       "      <th>false_negative</th>\n",
       "    </tr>\n",
       "  </thead>\n",
       "  <tbody>\n",
       "    <tr>\n",
       "      <th>pred_64_32_raw.pkl/quant0.6</th>\n",
       "      <td>quant</td>\n",
       "      <td>64</td>\n",
       "      <td>32</td>\n",
       "      <td>0.6</td>\n",
       "      <td>0.475559</td>\n",
       "      <td>0.188714</td>\n",
       "      <td>0.137261</td>\n",
       "    </tr>\n",
       "    <tr>\n",
       "      <th>pred_64_32_raw.pkl/quant0.7</th>\n",
       "      <td>quant</td>\n",
       "      <td>64</td>\n",
       "      <td>32</td>\n",
       "      <td>0.7</td>\n",
       "      <td>0.410514</td>\n",
       "      <td>0.150933</td>\n",
       "      <td>0.150937</td>\n",
       "    </tr>\n",
       "    <tr>\n",
       "      <th>pred_64_32_raw.pkl/quant0.8</th>\n",
       "      <td>quant</td>\n",
       "      <td>64</td>\n",
       "      <td>32</td>\n",
       "      <td>0.8</td>\n",
       "      <td>0.286304</td>\n",
       "      <td>0.093456</td>\n",
       "      <td>0.173294</td>\n",
       "    </tr>\n",
       "    <tr>\n",
       "      <th>pred_64_32_raw.pkl/quant0.9</th>\n",
       "      <td>quant</td>\n",
       "      <td>64</td>\n",
       "      <td>32</td>\n",
       "      <td>0.9</td>\n",
       "      <td>0.147547</td>\n",
       "      <td>0.037197</td>\n",
       "      <td>0.192446</td>\n",
       "    </tr>\n",
       "    <tr>\n",
       "      <th>pred_128_32_raw.pkl/quant0.6</th>\n",
       "      <td>quant</td>\n",
       "      <td>128</td>\n",
       "      <td>32</td>\n",
       "      <td>0.6</td>\n",
       "      <td>0.585376</td>\n",
       "      <td>0.263764</td>\n",
       "      <td>0.118915</td>\n",
       "    </tr>\n",
       "    <tr>\n",
       "      <th>...</th>\n",
       "      <td>...</td>\n",
       "      <td>...</td>\n",
       "      <td>...</td>\n",
       "      <td>...</td>\n",
       "      <td>...</td>\n",
       "      <td>...</td>\n",
       "      <td>...</td>\n",
       "    </tr>\n",
       "    <tr>\n",
       "      <th>pred_256_128_raw.pkl/val0.6</th>\n",
       "      <td>val</td>\n",
       "      <td>256</td>\n",
       "      <td>128</td>\n",
       "      <td>0.6</td>\n",
       "      <td>0.004489</td>\n",
       "      <td>0.034945</td>\n",
       "      <td>0.208021</td>\n",
       "    </tr>\n",
       "    <tr>\n",
       "      <th>pred_256_64_raw.pkl/val0.3</th>\n",
       "      <td>val</td>\n",
       "      <td>256</td>\n",
       "      <td>64</td>\n",
       "      <td>0.3</td>\n",
       "      <td>0.409515</td>\n",
       "      <td>0.305477</td>\n",
       "      <td>0.137578</td>\n",
       "    </tr>\n",
       "    <tr>\n",
       "      <th>pred_256_64_raw.pkl/val0.4</th>\n",
       "      <td>val</td>\n",
       "      <td>256</td>\n",
       "      <td>64</td>\n",
       "      <td>0.4</td>\n",
       "      <td>0.291982</td>\n",
       "      <td>0.206290</td>\n",
       "      <td>0.162137</td>\n",
       "    </tr>\n",
       "    <tr>\n",
       "      <th>pred_256_64_raw.pkl/val0.5</th>\n",
       "      <td>val</td>\n",
       "      <td>256</td>\n",
       "      <td>64</td>\n",
       "      <td>0.5</td>\n",
       "      <td>0.243883</td>\n",
       "      <td>0.158416</td>\n",
       "      <td>0.170282</td>\n",
       "    </tr>\n",
       "    <tr>\n",
       "      <th>pred_256_64_raw.pkl/val0.6</th>\n",
       "      <td>val</td>\n",
       "      <td>256</td>\n",
       "      <td>64</td>\n",
       "      <td>0.6</td>\n",
       "      <td>0.201889</td>\n",
       "      <td>0.123658</td>\n",
       "      <td>0.179376</td>\n",
       "    </tr>\n",
       "  </tbody>\n",
       "</table>\n",
       "<p>72 rows × 7 columns</p>\n",
       "</div>"
      ],
      "text/plain": [
       "                               type  w_size  step  parameter     score  \\\n",
       "pred_64_32_raw.pkl/quant0.6   quant      64    32        0.6  0.475559   \n",
       "pred_64_32_raw.pkl/quant0.7   quant      64    32        0.7  0.410514   \n",
       "pred_64_32_raw.pkl/quant0.8   quant      64    32        0.8  0.286304   \n",
       "pred_64_32_raw.pkl/quant0.9   quant      64    32        0.9  0.147547   \n",
       "pred_128_32_raw.pkl/quant0.6  quant     128    32        0.6  0.585376   \n",
       "...                             ...     ...   ...        ...       ...   \n",
       "pred_256_128_raw.pkl/val0.6     val     256   128        0.6  0.004489   \n",
       "pred_256_64_raw.pkl/val0.3      val     256    64        0.3  0.409515   \n",
       "pred_256_64_raw.pkl/val0.4      val     256    64        0.4  0.291982   \n",
       "pred_256_64_raw.pkl/val0.5      val     256    64        0.5  0.243883   \n",
       "pred_256_64_raw.pkl/val0.6      val     256    64        0.6  0.201889   \n",
       "\n",
       "                              false_positive  false_negative  \n",
       "pred_64_32_raw.pkl/quant0.6         0.188714        0.137261  \n",
       "pred_64_32_raw.pkl/quant0.7         0.150933        0.150937  \n",
       "pred_64_32_raw.pkl/quant0.8         0.093456        0.173294  \n",
       "pred_64_32_raw.pkl/quant0.9         0.037197        0.192446  \n",
       "pred_128_32_raw.pkl/quant0.6        0.263764        0.118915  \n",
       "...                                      ...             ...  \n",
       "pred_256_128_raw.pkl/val0.6         0.034945        0.208021  \n",
       "pred_256_64_raw.pkl/val0.3          0.305477        0.137578  \n",
       "pred_256_64_raw.pkl/val0.4          0.206290        0.162137  \n",
       "pred_256_64_raw.pkl/val0.5          0.158416        0.170282  \n",
       "pred_256_64_raw.pkl/val0.6          0.123658        0.179376  \n",
       "\n",
       "[72 rows x 7 columns]"
      ]
     },
     "execution_count": 3,
     "metadata": {},
     "output_type": "execute_result"
    }
   ],
   "source": [
    "res"
   ]
  },
  {
   "cell_type": "code",
   "execution_count": 8,
   "id": "1129a53c-b444-44d0-a724-23f64307b917",
   "metadata": {},
   "outputs": [],
   "source": [
    "x=list(res.index)"
   ]
  },
  {
   "cell_type": "code",
   "execution_count": 26,
   "id": "0dc903b9-459d-4bd8-872b-b2835798a03f",
   "metadata": {},
   "outputs": [
    {
     "data": {
      "text/plain": [
       "Text(0.5, 1.0, 'score of our models')"
      ]
     },
     "execution_count": 26,
     "metadata": {},
     "output_type": "execute_result"
    },
    {
     "data": {
      "image/png": "[encoded data removed]",
      "text/plain": [
       "<Figure size 2000x1000 with 1 Axes>"
      ]
     },
     "metadata": {},
     "output_type": "display_data"
    }
   ],
   "source": [
    "plt.figure(figsize=(20,10))\n",
    "plt.bar(x,res[\"score\"])\n",
    "plt.title(\"score of our models\",fontsize=\"30\")"
   ]
  },
  {
   "cell_type": "code",
   "execution_count": 31,
   "id": "501efe99-9d4e-42d5-8d0e-cac518aaa08e",
   "metadata": {},
   "outputs": [
    {
     "data": {
      "text/plain": [
       "Text(0.5, 1.0, 'score in function of the window size')"
      ]
     },
     "execution_count": 31,
     "metadata": {},
     "output_type": "execute_result"
    },
    {
     "data": {
      "image/png": "[encoded data removed]",
      "text/plain": [
       "<Figure size 640x480 with 1 Axes>"
      ]
     },
     "metadata": {},
     "output_type": "display_data"
    }
   ],
   "source": [
    "w_size=res[\"w_size\"]\n",
    "score=res[\"score\"]\n",
    "plt.scatter(w_size,score)\n",
    "plt.ylabel(\"score\")\n",
    "plt.xlabel(\"window size\")\n",
    "plt.title(\"score in function of the window size\")"
   ]
  },
  {
   "cell_type": "code",
   "execution_count": 32,
   "id": "cd6cc410-96d0-44af-b2e7-0c6163939631",
   "metadata": {},
   "outputs": [
    {
     "data": {
      "text/plain": [
       "Text(0.5, 1.0, 'score in function of the step')"
      ]
     },
     "execution_count": 32,
     "metadata": {},
     "output_type": "execute_result"
    },
    {
     "data": {
      "image/png": "[encoded data removed]",
      "text/plain": [
       "<Figure size 640x480 with 1 Axes>"
      ]
     },
     "metadata": {},
     "output_type": "display_data"
    }
   ],
   "source": [
    "step=res[\"step\"]\n",
    "score=res[\"score\"]\n",
    "plt.scatter(step,score)\n",
    "plt.ylabel(\"score\")\n",
    "plt.xlabel(\"step\")\n",
    "plt.title(\"score in function of the step\")"
   ]
  },
  {
   "cell_type": "code",
   "execution_count": 37,
   "id": "9d613553-e1dc-48f6-b98b-72a704cdebea",
   "metadata": {},
   "outputs": [
    {
     "data": {
      "text/plain": [
       "Text(0.5, 1.0, 'mean score for quantile versus value selection')"
      ]
     },
     "execution_count": 37,
     "metadata": {},
     "output_type": "execute_result"
    },
    {
     "data": {
      "image/png": "[encoded data removed]",
      "text/plain": [
       "<Figure size 640x480 with 1 Axes>"
      ]
     },
     "metadata": {},
     "output_type": "display_data"
    }
   ],
   "source": [
    "score_quant=sum(res[\"score\"].loc[res[\"type\"]==\"quant\"])/len(res.loc[res[\"type\"]==\"quant\"])\n",
    "score_val=sum(res[\"score\"].loc[res[\"type\"]==\"val\"])/len(res.loc[res[\"type\"]==\"val\"])\n",
    "\n",
    "plt.bar([\"quant\",\"val\"],[score_quant,score_val])\n",
    "\n",
    "plt.ylabel(\"score\")\n",
    "plt.title(\"mean score for quantile versus value selection\")\n"
   ]
  },
  {
   "cell_type": "code",
   "execution_count": 53,
   "id": "f35aa28c-5f85-4af3-94a1-fb2e316d7926",
   "metadata": {},
   "outputs": [
    {
     "data": {
      "text/plain": [
       "<matplotlib.legend.Legend at 0x7fdedf754e80>"
      ]
     },
     "execution_count": 53,
     "metadata": {},
     "output_type": "execute_result"
    },
    {
     "data": {
      "image/png": "[encoded data removed]",
      "text/plain": [
       "<Figure size 640x480 with 1 Axes>"
      ]
     },
     "metadata": {},
     "output_type": "display_data"
    }
   ],
   "source": [
    "sorted_df=res.sort_values(\"score\",ascending=False)[:10]\n",
    "score=sorted_df[\"score\"]\n",
    "labels=sorted_df[\"type\"]\n",
    "colors={\"red\":0,\"blue\":0}\n",
    "for i in range(len(score)):\n",
    "    color=\"red\" if labels[i]==\"quant\" else \"blue\"\n",
    "    \n",
    "    if(colors[color]==0):\n",
    "        plt.bar([i],[score[i]],color=color,label=labels[i])\n",
    "        colors[color]=1\n",
    "    else :\n",
    "        plt.bar([i],[score[i]],color=color)\n",
    "plt.ylabel(\"score\")\n",
    "plt.title(\"10 best models\")\n",
    "plt.legend()\n"
   ]
  },
  {
   "cell_type": "code",
   "execution_count": 39,
   "id": "81bd0867-becb-4498-87cd-dc0aff6d597b",
   "metadata": {},
   "outputs": [
    {
     "data": {
      "text/html": [
       "<div>\n",
       "<style scoped>\n",
       "    .dataframe tbody tr th:only-of-type {\n",
       "        vertical-align: middle;\n",
       "    }\n",
       "\n",
       "    .dataframe tbody tr th {\n",
       "        vertical-align: top;\n",
       "    }\n",
       "\n",
       "    .dataframe thead th {\n",
       "        text-align: right;\n",
       "    }\n",
       "</style>\n",
       "<table border=\"1\" class=\"dataframe\">\n",
       "  <thead>\n",
       "    <tr style=\"text-align: right;\">\n",
       "      <th></th>\n",
       "      <th>type</th>\n",
       "      <th>w_size</th>\n",
       "      <th>step</th>\n",
       "      <th>parameter</th>\n",
       "      <th>score</th>\n",
       "      <th>false_positive</th>\n",
       "      <th>false_negative</th>\n",
       "    </tr>\n",
       "  </thead>\n",
       "  <tbody>\n",
       "    <tr>\n",
       "      <th>pred_64_8_raw.pkl/quant0.6</th>\n",
       "      <td>quant</td>\n",
       "      <td>64</td>\n",
       "      <td>8</td>\n",
       "      <td>0.6</td>\n",
       "      <td>0.639458</td>\n",
       "      <td>0.280752</td>\n",
       "      <td>0.111237</td>\n",
       "    </tr>\n",
       "    <tr>\n",
       "      <th>pred_128_32_raw.pkl/quant0.6</th>\n",
       "      <td>quant</td>\n",
       "      <td>128</td>\n",
       "      <td>32</td>\n",
       "      <td>0.6</td>\n",
       "      <td>0.585376</td>\n",
       "      <td>0.263764</td>\n",
       "      <td>0.118915</td>\n",
       "    </tr>\n",
       "    <tr>\n",
       "      <th>pred_64_8_raw.pkl/quant0.7</th>\n",
       "      <td>quant</td>\n",
       "      <td>64</td>\n",
       "      <td>8</td>\n",
       "      <td>0.7</td>\n",
       "      <td>0.539845</td>\n",
       "      <td>0.207262</td>\n",
       "      <td>0.132288</td>\n",
       "    </tr>\n",
       "    <tr>\n",
       "      <th>pred_128_32_raw.pkl/val0.3</th>\n",
       "      <td>val</td>\n",
       "      <td>128</td>\n",
       "      <td>32</td>\n",
       "      <td>0.3</td>\n",
       "      <td>0.502595</td>\n",
       "      <td>0.220123</td>\n",
       "      <td>0.125205</td>\n",
       "    </tr>\n",
       "    <tr>\n",
       "      <th>pred_64_32_raw.pkl/quant0.6</th>\n",
       "      <td>quant</td>\n",
       "      <td>64</td>\n",
       "      <td>32</td>\n",
       "      <td>0.6</td>\n",
       "      <td>0.475559</td>\n",
       "      <td>0.188714</td>\n",
       "      <td>0.137261</td>\n",
       "    </tr>\n",
       "    <tr>\n",
       "      <th>pred_128_32_raw.pkl/quant0.7</th>\n",
       "      <td>quant</td>\n",
       "      <td>128</td>\n",
       "      <td>32</td>\n",
       "      <td>0.7</td>\n",
       "      <td>0.473977</td>\n",
       "      <td>0.180848</td>\n",
       "      <td>0.139732</td>\n",
       "    </tr>\n",
       "    <tr>\n",
       "      <th>pred_128_64_raw.pkl/quant0.6</th>\n",
       "      <td>quant</td>\n",
       "      <td>128</td>\n",
       "      <td>64</td>\n",
       "      <td>0.6</td>\n",
       "      <td>0.431864</td>\n",
       "      <td>0.205449</td>\n",
       "      <td>0.141754</td>\n",
       "    </tr>\n",
       "    <tr>\n",
       "      <th>pred_64_8_raw.pkl/val0.3</th>\n",
       "      <td>val</td>\n",
       "      <td>64</td>\n",
       "      <td>8</td>\n",
       "      <td>0.3</td>\n",
       "      <td>0.422677</td>\n",
       "      <td>0.146041</td>\n",
       "      <td>0.142849</td>\n",
       "    </tr>\n",
       "    <tr>\n",
       "      <th>pred_128_64_raw.pkl/val0.3</th>\n",
       "      <td>val</td>\n",
       "      <td>128</td>\n",
       "      <td>64</td>\n",
       "      <td>0.3</td>\n",
       "      <td>0.414333</td>\n",
       "      <td>0.194913</td>\n",
       "      <td>0.141228</td>\n",
       "    </tr>\n",
       "    <tr>\n",
       "      <th>pred_64_8_raw.pkl/quant0.8</th>\n",
       "      <td>quant</td>\n",
       "      <td>64</td>\n",
       "      <td>8</td>\n",
       "      <td>0.8</td>\n",
       "      <td>0.411628</td>\n",
       "      <td>0.131322</td>\n",
       "      <td>0.155278</td>\n",
       "    </tr>\n",
       "  </tbody>\n",
       "</table>\n",
       "</div>"
      ],
      "text/plain": [
       "                               type  w_size  step  parameter     score  \\\n",
       "pred_64_8_raw.pkl/quant0.6    quant      64     8        0.6  0.639458   \n",
       "pred_128_32_raw.pkl/quant0.6  quant     128    32        0.6  0.585376   \n",
       "pred_64_8_raw.pkl/quant0.7    quant      64     8        0.7  0.539845   \n",
       "pred_128_32_raw.pkl/val0.3      val     128    32        0.3  0.502595   \n",
       "pred_64_32_raw.pkl/quant0.6   quant      64    32        0.6  0.475559   \n",
       "pred_128_32_raw.pkl/quant0.7  quant     128    32        0.7  0.473977   \n",
       "pred_128_64_raw.pkl/quant0.6  quant     128    64        0.6  0.431864   \n",
       "pred_64_8_raw.pkl/val0.3        val      64     8        0.3  0.422677   \n",
       "pred_128_64_raw.pkl/val0.3      val     128    64        0.3  0.414333   \n",
       "pred_64_8_raw.pkl/quant0.8    quant      64     8        0.8  0.411628   \n",
       "\n",
       "                              false_positive  false_negative  \n",
       "pred_64_8_raw.pkl/quant0.6          0.280752        0.111237  \n",
       "pred_128_32_raw.pkl/quant0.6        0.263764        0.118915  \n",
       "pred_64_8_raw.pkl/quant0.7          0.207262        0.132288  \n",
       "pred_128_32_raw.pkl/val0.3          0.220123        0.125205  \n",
       "pred_64_32_raw.pkl/quant0.6         0.188714        0.137261  \n",
       "pred_128_32_raw.pkl/quant0.7        0.180848        0.139732  \n",
       "pred_128_64_raw.pkl/quant0.6        0.205449        0.141754  \n",
       "pred_64_8_raw.pkl/val0.3            0.146041        0.142849  \n",
       "pred_128_64_raw.pkl/val0.3          0.194913        0.141228  \n",
       "pred_64_8_raw.pkl/quant0.8          0.131322        0.155278  "
      ]
     },
     "execution_count": 39,
     "metadata": {},
     "output_type": "execute_result"
    }
   ],
   "source": [
    "sorted_df"
   ]
  },
  {
   "cell_type": "code",
   "execution_count": null,
   "id": "5408947b-2bd6-42b9-ba0c-b0d5e7905d65",
   "metadata": {},
   "outputs": [],
   "source": []
  }
 ],
 "metadata": {
  "kernelspec": {
   "display_name": "env_pocket",
   "language": "python",
   "name": "env_pocket"
  },
  "language_info": {
   "codemirror_mode": {
    "name": "ipython",
    "version": 3
   },
   "file_extension": ".py",
   "mimetype": "text/x-python",
   "name": "python",
   "nbconvert_exporter": "python",
   "pygments_lexer": "ipython3",
   "version": "3.8.0"
  }
 },
 "nbformat": 4,
 "nbformat_minor": 5
}
